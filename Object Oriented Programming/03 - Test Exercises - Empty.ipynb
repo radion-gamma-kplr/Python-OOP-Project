{
 "cells": [
  {
   "cell_type": "markdown",
   "id": "018f51b4",
   "metadata": {},
   "source": [
    "# Test Exercises"
   ]
  },
  {
   "cell_type": "markdown",
   "id": "d77460b0",
   "metadata": {},
   "source": [
    "### Exercise 1\n",
    "\n",
    "Create a `class` for a book called `Book`.\n",
    "\n",
    "The attributes should be.\n",
    "- `title`\n",
    "- `author`\n",
    "- `pages`\n",
    "\n",
    "Try it out."
   ]
  },
  {
   "cell_type": "code",
   "execution_count": 53,
   "id": "f33f470f",
   "metadata": {},
   "outputs": [],
   "source": [
    "class Book:\n",
    "    def __init__(self,title, author, pages) :\n",
    "        self.title = title\n",
    "        self.author = author\n",
    "        self.pages = pages"
   ]
  },
  {
   "cell_type": "code",
   "execution_count": 54,
   "id": "862e0298",
   "metadata": {},
   "outputs": [],
   "source": [
    "b1 = Book(title='Sapiens', author='Yuval', pages=561)"
   ]
  },
  {
   "cell_type": "code",
   "execution_count": 55,
   "id": "3ef86d2e",
   "metadata": {},
   "outputs": [
    {
     "data": {
      "text/plain": [
       "'Yuval'"
      ]
     },
     "execution_count": 55,
     "metadata": {},
     "output_type": "execute_result"
    }
   ],
   "source": [
    "b1.author"
   ]
  },
  {
   "cell_type": "markdown",
   "id": "9813e500",
   "metadata": {},
   "source": [
    "### Exercise 2\n",
    "\n",
    "Continue with the `Book` class.\n",
    "\n",
    "- Add get and set methods for the title.\n",
    "- Add a `__str__` method for a string representation of the class.\n",
    "\n",
    "Try it out."
   ]
  },
  {
   "cell_type": "code",
   "execution_count": 56,
   "id": "18f7a816",
   "metadata": {},
   "outputs": [],
   "source": [
    "class Book:\n",
    "    def __init__(self,title, author, pages) :\n",
    "        self.title = title\n",
    "        self.author = author\n",
    "        self.pages = pages\n",
    "    \n",
    "    def set_title(self, title):\n",
    "        self.title = title\n",
    "\n",
    "    def get_title (self):\n",
    "        return self.title\n",
    "    \n",
    "    def __str__(self):\n",
    "        return self.title"
   ]
  },
  {
   "cell_type": "code",
   "execution_count": 57,
   "id": "02e2bc00",
   "metadata": {},
   "outputs": [
    {
     "name": "stdout",
     "output_type": "stream",
     "text": [
      "<__main__.Book object at 0x7f6662673850>\n"
     ]
    }
   ],
   "source": [
    "print(b1)"
   ]
  },
  {
   "cell_type": "code",
   "execution_count": null,
   "id": "dd0c77e7",
   "metadata": {},
   "outputs": [],
   "source": []
  },
  {
   "cell_type": "markdown",
   "id": "57e274d1",
   "metadata": {},
   "source": [
    "### Exercise 3 (Challenging)\n",
    "\n",
    "Continue with the `Book` class\n",
    "\n",
    "- Add a `__lt__` method that compares to objects.\n",
    "\n",
    "Create a list of books, sort it, and see it works."
   ]
  },
  {
   "cell_type": "code",
   "execution_count": 62,
   "id": "08ceca17",
   "metadata": {},
   "outputs": [],
   "source": [
    "class Book:\n",
    "    def __init__(self,title, author, pages) :\n",
    "        self.title = title\n",
    "        self.author = author\n",
    "        self.pages = pages\n",
    "    \n",
    "    def set_title(self, title):\n",
    "        self.title = title\n",
    "\n",
    "    def get_title (self):\n",
    "        return self.title\n",
    "    \n",
    "    def __str__(self):\n",
    "        return self.title\n",
    "    \n",
    "    def __lt__(self, other):\n",
    "        if self.author != other.author:\n",
    "            return self.author < other.author\n",
    "        if self.title != other.title:\n",
    "            return self.title < other.title\n",
    "        return self.pages < other.pages"
   ]
  },
  {
   "cell_type": "code",
   "execution_count": 63,
   "id": "c9f80062",
   "metadata": {},
   "outputs": [],
   "source": [
    "b2 = Book ('Homo Deus', 'Yuval', 515)"
   ]
  },
  {
   "cell_type": "code",
   "execution_count": 64,
   "id": "44f29f12",
   "metadata": {},
   "outputs": [
    {
     "data": {
      "text/plain": [
       "True"
      ]
     },
     "execution_count": 64,
     "metadata": {},
     "output_type": "execute_result"
    }
   ],
   "source": [
    "b1 != b2"
   ]
  },
  {
   "cell_type": "code",
   "execution_count": null,
   "id": "27dc0933",
   "metadata": {},
   "outputs": [],
   "source": []
  },
  {
   "cell_type": "code",
   "execution_count": null,
   "id": "4d7476ef",
   "metadata": {},
   "outputs": [],
   "source": []
  }
 ],
 "metadata": {
  "kernelspec": {
   "display_name": "Python 3 (ipykernel)",
   "language": "python",
   "name": "python3"
  },
  "language_info": {
   "codemirror_mode": {
    "name": "ipython",
    "version": 3
   },
   "file_extension": ".py",
   "mimetype": "text/x-python",
   "name": "python",
   "nbconvert_exporter": "python",
   "pygments_lexer": "ipython3",
   "version": "3.10.4"
  }
 },
 "nbformat": 4,
 "nbformat_minor": 5
}
