{
 "cells": [
  {
   "cell_type": "markdown",
   "id": "83a3d9f2",
   "metadata": {},
   "source": [
    "# Methods on Classes / NEED-TO-KNOW\n",
    "\n",
    "Methods are like functions but defined inside the body of the class.\n",
    "\n",
    "They can perform operations with the attributes of the object.\n",
    "\n",
    "```Python\n",
    "class Person:\n",
    "    def __init__(self, name, age):\n",
    "        self.name = name\n",
    "        self.age = age\n",
    "\n",
    "    def set_name(self, name):\n",
    "        self.name = name\n",
    "        \n",
    "    def get_name(self):\n",
    "        return self.name\n",
    "```"
   ]
  },
  {
   "cell_type": "code",
   "execution_count": 2,
   "id": "42e1beda",
   "metadata": {},
   "outputs": [],
   "source": [
    "class Person:\n",
    "    def __init__(self, name, age):\n",
    "        self.name = name\n",
    "        self.age = age\n",
    "\n",
    "    def set_name(self, name):\n",
    "        self.name = name\n",
    "\n",
    "    def get_name(self):\n",
    "        return self.name"
   ]
  },
  {
   "cell_type": "code",
   "execution_count": 3,
   "id": "497d1a8f",
   "metadata": {},
   "outputs": [],
   "source": [
    "p1 = Person('John', 42)"
   ]
  },
  {
   "cell_type": "code",
   "execution_count": 4,
   "id": "3dff09e1",
   "metadata": {},
   "outputs": [
    {
     "data": {
      "text/plain": [
       "'John'"
      ]
     },
     "execution_count": 4,
     "metadata": {},
     "output_type": "execute_result"
    }
   ],
   "source": [
    "p1.get_name()"
   ]
  },
  {
   "cell_type": "code",
   "execution_count": 5,
   "id": "5edbdc74",
   "metadata": {},
   "outputs": [],
   "source": [
    "p1.set_name('James')"
   ]
  },
  {
   "cell_type": "code",
   "execution_count": 6,
   "id": "85b77636",
   "metadata": {},
   "outputs": [
    {
     "data": {
      "text/plain": [
       "'James'"
      ]
     },
     "execution_count": 6,
     "metadata": {},
     "output_type": "execute_result"
    }
   ],
   "source": [
    "p1.get_name()"
   ]
  },
  {
   "cell_type": "code",
   "execution_count": 7,
   "id": "bc9db45e",
   "metadata": {},
   "outputs": [],
   "source": [
    "p1.name = 'Victor'"
   ]
  },
  {
   "cell_type": "code",
   "execution_count": 8,
   "id": "05b14258",
   "metadata": {},
   "outputs": [
    {
     "data": {
      "text/plain": [
       "'Victor'"
      ]
     },
     "execution_count": 8,
     "metadata": {},
     "output_type": "execute_result"
    }
   ],
   "source": [
    "p1.name"
   ]
  },
  {
   "cell_type": "code",
   "execution_count": 9,
   "id": "6f850bf7",
   "metadata": {},
   "outputs": [
    {
     "data": {
      "text/plain": [
       "'Victor'"
      ]
     },
     "execution_count": 9,
     "metadata": {},
     "output_type": "execute_result"
    }
   ],
   "source": [
    "p1.get_name()"
   ]
  },
  {
   "cell_type": "code",
   "execution_count": 10,
   "id": "afc9407d",
   "metadata": {},
   "outputs": [
    {
     "name": "stdout",
     "output_type": "stream",
     "text": [
      "<__main__.Person object at 0x7fb0683a2c20>\n"
     ]
    }
   ],
   "source": [
    "print(p1)"
   ]
  },
  {
   "cell_type": "code",
   "execution_count": null,
   "id": "fbc12b5b",
   "metadata": {},
   "outputs": [],
   "source": []
  },
  {
   "cell_type": "markdown",
   "id": "8a29554d",
   "metadata": {},
   "source": [
    "### Special Methods\n",
    "\n",
    "Python classes can implement certain operations with special method names.\n",
    "\n",
    "These methods are not called directly.\n",
    "\n",
    "Here are a few.\n",
    "```Python\n",
    "class Person:\n",
    "    def __init__(self, name, age):\n",
    "        self.name = name\n",
    "        self.age = age\n",
    "\n",
    "    def set_name(self, name):\n",
    "        self.name = name\n",
    "        \n",
    "    def get_name(self):\n",
    "        return self.name\n",
    "    \n",
    "    def __str__(self):\n",
    "        return f'name: {self.name}, age: {self.age}'\n",
    "    \n",
    "    def __lt__(self, other):\n",
    "        if self.age == other.age:\n",
    "            return self.name < other.name\n",
    "        return self.age < other.age\n",
    "```"
   ]
  },
  {
   "cell_type": "code",
   "execution_count": 11,
   "id": "a933a160",
   "metadata": {},
   "outputs": [],
   "source": [
    "class Person:\n",
    "    def __init__(self, name, age):\n",
    "        self.name = name\n",
    "        self.age = age\n",
    "\n",
    "    def set_name(self, name):\n",
    "        self.name = name\n",
    "\n",
    "    def get_name(self):\n",
    "        return self.name\n",
    "\n",
    "    def __str__(self):\n",
    "        return self.name + ' (' + str(self.age) + ')'\n",
    "    \n",
    "    def __repr__(self):\n",
    "        return self.name + ' (' + str(self.age) + ')'       \n",
    "\n",
    "    def __lt__(self, other):\n",
    "        if self.age == other.age:\n",
    "            return self.name < other.name\n",
    "        return self.age < other.age"
   ]
  },
  {
   "cell_type": "code",
   "execution_count": 12,
   "id": "85e5cbc6",
   "metadata": {},
   "outputs": [
    {
     "name": "stdout",
     "output_type": "stream",
     "text": [
      "James (16)\n"
     ]
    }
   ],
   "source": [
    "p1 = Person('James', 16)\n",
    "print(p1)"
   ]
  },
  {
   "cell_type": "code",
   "execution_count": 13,
   "id": "84b05d96",
   "metadata": {},
   "outputs": [],
   "source": [
    "p2 = Person('Anna', 16)"
   ]
  },
  {
   "cell_type": "code",
   "execution_count": 14,
   "id": "10add635",
   "metadata": {},
   "outputs": [
    {
     "data": {
      "text/plain": [
       "False"
      ]
     },
     "execution_count": 14,
     "metadata": {},
     "output_type": "execute_result"
    }
   ],
   "source": [
    "p1 < p2"
   ]
  },
  {
   "cell_type": "code",
   "execution_count": 15,
   "id": "83d56bf5",
   "metadata": {},
   "outputs": [],
   "source": [
    "people = [Person('James', 16), Person('Anna', 16), Person('Charles', 15)]"
   ]
  },
  {
   "cell_type": "code",
   "execution_count": 16,
   "id": "b9e0fb5d",
   "metadata": {},
   "outputs": [
    {
     "name": "stdout",
     "output_type": "stream",
     "text": [
      "[Charles (15), Anna (16), James (16)]\n"
     ]
    }
   ],
   "source": [
    "people.sort()\n",
    "print(people)"
   ]
  },
  {
   "cell_type": "code",
   "execution_count": null,
   "id": "1b52c819",
   "metadata": {},
   "outputs": [],
   "source": []
  },
  {
   "cell_type": "code",
   "execution_count": null,
   "id": "92a7c33c",
   "metadata": {},
   "outputs": [],
   "source": []
  },
  {
   "cell_type": "code",
   "execution_count": null,
   "id": "4b359834",
   "metadata": {},
   "outputs": [],
   "source": []
  },
  {
   "cell_type": "markdown",
   "id": "c89f7e6d",
   "metadata": {},
   "source": [
    "### `class` vs `dict`\n",
    "\n",
    "Could it all be implemented by a dict?\n",
    "\n",
    "```Python\n",
    "person = {\n",
    "    'name': 'James',\n",
    "    'age': 10\n",
    "}\n",
    "\n",
    "# Get name\n",
    "person['name']\n",
    "\n",
    "# Set name\n",
    "person['name'] = 'Jones'\n",
    "\n",
    "# string (__str__)\n",
    "def person_str(person):\n",
    "    return f'name: {person[\"name\"]}, age: {person[\"age\"]}'\n",
    "\n",
    "# ...\n",
    "```\n",
    "\n"
   ]
  },
  {
   "cell_type": "code",
   "execution_count": 17,
   "id": "e7a993db",
   "metadata": {},
   "outputs": [],
   "source": [
    "person = {\n",
    "    'name': 'James',\n",
    "    'age': 10\n",
    "}\n",
    "\n",
    "# Get name\n",
    "person['name']\n",
    "\n",
    "# Set name\n",
    "person['name'] = 'Jones'\n",
    "\n",
    "# string (__str__)\n",
    "def person_str(person):\n",
    "    return f'name: {person[\"name\"]}, age: {person[\"age\"]}'\n"
   ]
  },
  {
   "cell_type": "code",
   "execution_count": 18,
   "id": "3efffe81",
   "metadata": {},
   "outputs": [
    {
     "data": {
      "text/plain": [
       "'name: Jones, age: 10'"
      ]
     },
     "execution_count": 18,
     "metadata": {},
     "output_type": "execute_result"
    },
    {
     "name": "stderr",
     "output_type": "stream",
     "text": [
      "Bad pipe message: %s [b\"\\xeb\\x8e\\xc3#\\x10k\\nh\\xb8\\x11\\xe6\\x1a\\xb3>M\\xec@H\\x00\\x00|\\xc0,\\xc00\\x00\\xa3\\x00\\x9f\\xcc\\xa9\\xcc\\xa8\\xcc\\xaa\\xc0\\xaf\\xc0\\xad\\xc0\\xa3\\xc0\\x9f\\xc0]\\xc0a\\xc0W\\xc0S\\xc0+\\xc0/\\x00\\xa2\\x00\\x9e\\xc0\\xae\\xc0\\xac\\xc0\\xa2\\xc0\\x9e\\xc0\\\\\\xc0`\\xc0V\\xc0R\\xc0$\\xc0(\\x00k\\x00j\\xc0#\\xc0'\\x00g\\x00@\\xc0\\n\\xc0\\x14\\x009\\x008\\xc0\\t\\xc0\\x13\\x003\\x002\\x00\\x9d\\xc0\\xa1\\xc0\\x9d\\xc0Q\\x00\\x9c\\xc0\\xa0\\xc0\\x9c\\xc0P\\x00=\\x00<\\x005\\x00/\\x00\\x9a\\x00\\x99\\xc0\\x07\\xc0\\x11\\x00\\x96\\x00\\x05\\x00\\xff\\x01\\x00\\x00j\\x00\\x00\\x00\\x0e\\x00\\x0c\\x00\\x00\\t127.0.0.1\\x00\\x0b\\x00\\x04\\x03\\x00\\x01\\x02\\x00\\n\\x00\\x0c\\x00\\n\\x00\\x1d\\x00\"]\n",
      "Bad pipe message: %s [b'\\x1e\\x00\\x19\\x00\\x18\\x00#\\x00\\x00\\x00\\x16\\x00\\x00\\x00\\x17\\x00\\x00\\x00\\r\\x000\\x00']\n",
      "Bad pipe message: %s [b'\\xba\\xb92B\\xa7\\xf8e\\t}&\\x9b\\xdf$#\\x80\\xbc\\xf7%\\x00\\x00\\xf4\\xc00\\xc0,\\xc0(\\xc0$\\xc0\\x14\\xc0\\n\\x00\\xa5\\x00\\xa3\\x00\\xa1\\x00\\x9f\\x00k\\x00j\\x00i\\x00h\\x009\\x008\\x007\\x006\\x00\\x88\\x00\\x87\\x00\\x86\\x00\\x85\\xc0\\x19\\x00\\xa7\\x00m\\x00:\\x00\\x89\\xc02\\xc0.\\xc0*\\xc0&\\xc0\\x0f\\xc0\\x05\\x00\\x9d\\x00=\\x005\\x00']\n",
      "Bad pipe message: %s [b'\\xff\\x0b\\xed5\\xa8]\\xe7\\xd1N|!\\x0c\\x13\\x93\\xe1\\xb5~D\\x00\\x00>\\xc0\\x14\\xc0\\n\\x009\\x008\\x007\\x006\\xc0\\x0f\\xc0\\x05\\x005\\xc0\\x13\\xc0\\t\\x003\\x002\\x001\\x000\\xc0\\x0e\\xc0\\x04\\x00/\\x00\\x9a\\x00\\x99\\x00\\x98\\x00\\x97\\x00\\x96\\x00\\x07\\xc0\\x11\\xc0\\x07\\xc0\\x0c\\xc0\\x02\\x00\\x05\\x00\\x04\\x00\\xff\\x02\\x01\\x00\\x00C\\x00\\x00\\x00\\x0e\\x00\\x0c\\x00\\x00\\t127.0']\n",
      "Bad pipe message: %s [b\"\\x9e\\x93r\\r\\xeb\\xfeM)CFW\\xd4J\\x8d\\xb2,T$\\x00\\x00\\x86\\xc00\\xc0,\\xc0(\\xc0$\\xc0\\x14\\xc0\\n\\x00\\xa5\\x00\\xa3\\x00\\xa1\\x00\\x9f\\x00k\\x00j\\x00i\\x00h\\x009\\x008\\x007\\x006\\xc02\\xc0.\\xc0*\\xc0&\\xc0\\x0f\\xc0\\x05\\x00\\x9d\\x00=\\x005\\xc0/\\xc0+\\xc0'\\xc0#\\xc0\\x13\\xc0\\t\\x00\\xa4\\x00\\xa2\\x00\\xa0\\x00\\x9e\\x00g\\x00@\\x00?\\x00>\\x003\\x002\\x001\\x000\\xc01\\xc0-\\xc0)\\xc0%\\xc0\\x0e\\xc0\\x04\\x00\\x9c\\x00\"]\n",
      "Bad pipe message: %s [b'0\\x99']\n",
      "Bad pipe message: %s [b'\\xcbxJ\\xd46}s\\x18\\xdf\\xc0\\\\;\\x15\\x9f\\x0f\\xe6i\\x89\\x00\\x00\\xa2\\xc0\\x14\\xc0\\n']\n",
      "Bad pipe message: %s [b'\\x03\\x05\\x03\\x06\\x03\\x08\\x07\\x08\\x08\\x08\\t\\x08\\n\\x08\\x0b\\x08\\x04\\x08\\x05\\x08\\x06\\x04\\x01\\x05\\x01\\x06\\x01\\x03\\x03\\x02\\x03\\x03\\x01\\x02\\x01\\x03\\x02\\x02\\x02\\x04\\x02\\x05\\x02\\x06\\x02']\n",
      "Bad pipe message: %s [b\"/\\xc0+\\xc0'\\xc0#\\xc0\\x13\\xc0\\t\\x00\\xa4\\x00\\xa2\\x00\\xa0\\x00\\x9e\\x00g\\x00@\\x00?\\x00>\\x003\\x002\\x001\\x000\\x00\\x9a\\x00\\x99\\x00\\x98\\x00\\x97\\x00E\\x00D\\x00C\\x00B\\xc0\\x18\\x00\\xa6\\x00l\\x004\\x00\\x9b\\x00F\\xc01\\xc0-\\xc0)\\xc0%\\xc0\\x0e\\xc0\\x04\\x00\\x9c\\x00<\\x00/\\x00\\x96\\x00A\\x00\\x07\\xc0\\x11\\xc0\\x07\\xc0\\x16\\x00\\x18\\xc0\\x0c\\xc0\\x02\\x00\\x05\\x00\\x04\\xc0\\x12\\xc0\\x08\\x00\\x16\\x00\\x13\\x00\\x10\\x00\\r\\xc0\\x17\\x00\\x1b\\xc0\\r\\xc0\\x03\\x00\\n\\x00\\x15\\x00\\x12\\x00\\x0f\"]\n",
      "Bad pipe message: %s [b'.1\\x00\\x0b\\x00\\x04\\x03\\x00\\x01\\x02\\x00\\n\\x00\\x1c\\x00\\x1a\\x00\\x17\\x00\\x19\\x00\\x1c\\x00\\x1b\\x00\\x18\\x00\\x1a\\x00\\x16\\x00\\x0e\\x00\\r\\x00\\x0b\\x00\\x0c\\x00\\t\\x00\\n\\x00#\\x00']\n",
      "Bad pipe message: %s [b'/\\x00\\x9a\\x00\\x99\\x00\\x98\\x00\\x97\\x00\\x96\\x00\\x07\\xc0\\x11\\xc0\\x07\\xc0\\x0c\\xc0\\x02\\x00\\x05\\x00\\x04\\x00\\xff\\x02\\x01\\x00\\x00g\\x00\\x00\\x00\\x0e\\x00\\x0c\\x00\\x00\\t127.0.0.1\\x00\\x0b\\x00\\x04\\x03\\x00\\x01\\x02\\x00']\n",
      "Bad pipe message: %s [b'\\xc6\\x88\\xf1\\xe7,R\\x0b\\xf4,\\x89\\xc4\\xba\\xfd\\xa3\\x00\\x00>\\xc0\\x14\\xc0\\n\\x009\\x008\\x007\\x006\\xc0\\x0f\\xc0\\x05\\x005\\xc0\\x13\\xc0\\t\\x003\\x002\\x001\\x000\\xc0\\x0e\\xc0\\x04\\x00/\\x00\\x9a\\x00\\x99\\x00\\x98\\x00\\x97\\x00\\x96\\x00\\x07\\xc0\\x11\\xc0\\x07\\xc0\\x0c\\xc0\\x02\\x00\\x05\\x00\\x04\\x00\\xff\\x02\\x01\\x00\\x00C\\x00\\x00\\x00\\x0e\\x00\\x0c\\x00\\x00\\t127.0.0.1\\x00\\x0b\\x00\\x04\\x03\\x00\\x01\\x02\\x00\\n\\x00\\x1c\\x00\\x1a\\x00\\x17\\x00\\x19\\x00\\x1c\\x00\\x1b\\x00\\x18\\x00\\x1a\\x00\\x16\\x00\\x0e\\x00\\r\\x00\\x0b\\x00\\x0c\\x00\\t']\n",
      "Bad pipe message: %s [b'\\x1c\\x00\\x1a\\x00\\x17\\x00\\x19\\x00\\x1c']\n"
     ]
    }
   ],
   "source": [
    "person_str(person)"
   ]
  },
  {
   "cell_type": "code",
   "execution_count": null,
   "id": "151f6c92",
   "metadata": {},
   "outputs": [],
   "source": []
  },
  {
   "cell_type": "code",
   "execution_count": null,
   "id": "f4ee6d77",
   "metadata": {},
   "outputs": [],
   "source": []
  }
 ],
 "metadata": {
  "kernelspec": {
   "display_name": "Python 3 (ipykernel)",
   "language": "python",
   "name": "python3"
  },
  "language_info": {
   "codemirror_mode": {
    "name": "ipython",
    "version": 3
   },
   "file_extension": ".py",
   "mimetype": "text/x-python",
   "name": "python",
   "nbconvert_exporter": "python",
   "pygments_lexer": "ipython3",
   "version": "3.10.4"
  }
 },
 "nbformat": 4,
 "nbformat_minor": 5
}
